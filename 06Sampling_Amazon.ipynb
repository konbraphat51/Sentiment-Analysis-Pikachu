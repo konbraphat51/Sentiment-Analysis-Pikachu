{
 "cells": [
  {
   "attachments": {},
   "cell_type": "markdown",
   "metadata": {},
   "source": [
    "# Amazonレビューからポジティブテキスト、ネガティブテキストをサンプル抽出\n",
    "ポジティブは星5、ネガティブは星１  \n"
   ]
  },
  {
   "attachments": {},
   "cell_type": "markdown",
   "metadata": {},
   "source": [
    "## 必要なもの\n",
    "* Amazonのレビューデータセット（https://s3.amazonaws.com/amazon-reviews-pds/readme.html から https://s3.amazonaws.com/amazon-reviews-pds/tsv/amazon_reviews_multilingual_JP_v1_00.tsv.gzへアクセス）をAmazonフォルダーへ"
   ]
  },
  {
   "cell_type": "code",
   "execution_count": null,
   "metadata": {},
   "outputs": [],
   "source": [
    "import pandas as pd\n",
    "import random\n",
    "\n",
    "random.seed(334)"
   ]
  },
  {
   "cell_type": "code",
   "execution_count": null,
   "metadata": {},
   "outputs": [],
   "source": [
    "#取り出したい数\n",
    "wanted_pos = 1000  #星5\n",
    "wanted_neg = 1000  #星1\n",
    "\n",
    "#Amazon母集団ファイルの場所\n",
    "population_file = \"Amazon/amazon_reviews_multilingual_JP_v1_00.tsv\"\n",
    "\n",
    "#出力ファイルの名前\n",
    "positive_file = \"Amazon/positive.txt\"\n",
    "negative_file = \"Amazon/negative.txt\""
   ]
  },
  {
   "cell_type": "code",
   "execution_count": null,
   "metadata": {},
   "outputs": [],
   "source": [
    "#生データ\n",
    "#https://s3.amazonaws.com/amazon-reviews-pds/tsv/amazon_reviews_multilingual_JP_v1_00.tsv.gz\n",
    "origin_df = pd.read_table(population_file)\n",
    "\n",
    "origin_df.head(5)"
   ]
  },
  {
   "cell_type": "code",
   "execution_count": null,
   "metadata": {},
   "outputs": [],
   "source": [
    "#ポジティブ、ネガティブを抽出\n",
    "df_pos = origin_df[origin_df[\"star_rating\"]==5][\"review_body\"]\n",
    "df_neg = origin_df[origin_df[\"star_rating\"]==1][\"review_body\"]\n",
    "\n",
    "df_pos.shape, df_neg.shape"
   ]
  },
  {
   "cell_type": "code",
   "execution_count": null,
   "metadata": {},
   "outputs": [],
   "source": [
    "#抽出\n",
    "df_pos = df_pos.sample(n=wanted_pos, random_state=334)\n",
    "df_neg = df_neg.sample(n=wanted_neg, random_state=334)\n",
    "\n",
    "df_pos.shape, df_neg.shape"
   ]
  },
  {
   "cell_type": "code",
   "execution_count": null,
   "metadata": {},
   "outputs": [],
   "source": [
    "df_pos.to_csv(positive_file, index = False, header=False)\n",
    "df_neg.to_csv(negative_file, index = False, header=False)"
   ]
  }
 ],
 "metadata": {
  "kernelspec": {
   "display_name": "jpnlp",
   "language": "python",
   "name": "python3"
  },
  "language_info": {
   "codemirror_mode": {
    "name": "ipython",
    "version": 3
   },
   "file_extension": ".py",
   "mimetype": "text/x-python",
   "name": "python",
   "nbconvert_exporter": "python",
   "pygments_lexer": "ipython3",
   "version": "3.9.16"
  },
  "orig_nbformat": 4,
  "vscode": {
   "interpreter": {
    "hash": "af19612f8f38f6812d87a5ef9419a460d9700d7e1cf8ff071cf581e2ee4d6233"
   }
  }
 },
 "nbformat": 4,
 "nbformat_minor": 2
}

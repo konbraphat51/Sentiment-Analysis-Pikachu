{
 "cells": [
  {
   "attachments": {},
   "cell_type": "markdown",
   "metadata": {},
   "source": [
    "# ラベル付けソフトに食わせるためにテキスト部分のみ抽出\n",
    "結果はOnly_Texts/ResponsesないしOnly_Texts/Threadsフォルダーに記録される"
   ]
  },
  {
   "attachments": {},
   "cell_type": "markdown",
   "metadata": {},
   "source": [
    "## 必要なもの\n",
    "* IDをセット\n",
    "* ストップワードを入力"
   ]
  },
  {
   "cell_type": "code",
   "execution_count": 1,
   "metadata": {},
   "outputs": [],
   "source": [
    "#03が作成したファイル\n",
    "target_file = \"Responses/pikachu.txt\"\n",
    "\n",
    "#抽出後、保存するファイル\n",
    "output_file = \"Only_Texts/pikachu.txt\"\n",
    "\n",
    "SHUFFLE = True"
   ]
  },
  {
   "attachments": {},
   "cell_type": "markdown",
   "metadata": {},
   "source": [
    "## ストップワードを調整"
   ]
  },
  {
   "cell_type": "code",
   "execution_count": 2,
   "metadata": {},
   "outputs": [],
   "source": [
    "stopwords = []"
   ]
  },
  {
   "attachments": {},
   "cell_type": "markdown",
   "metadata": {},
   "source": [
    "## 変換"
   ]
  },
  {
   "attachments": {},
   "cell_type": "markdown",
   "metadata": {},
   "source": [
    "### ストップワードが入ったテキストの除外"
   ]
  },
  {
   "cell_type": "code",
   "execution_count": 3,
   "metadata": {},
   "outputs": [],
   "source": [
    "def has_stopwords(text):\n",
    "    for stopword in stopwords:\n",
    "        if stopword in text:\n",
    "            return True\n",
    "    \n",
    "    return False"
   ]
  },
  {
   "attachments": {},
   "cell_type": "markdown",
   "metadata": {},
   "source": [
    "### 指定された行からテキスト部分を抽出"
   ]
  },
  {
   "cell_type": "code",
   "execution_count": 4,
   "metadata": {},
   "outputs": [],
   "source": [
    "def get_text(line):\n",
    "    output = line.split(\"\\t\")[3]\n",
    "    if output[-1] == \"\\n\":\n",
    "        return output\n",
    "    else:\n",
    "        return output+\"\\n\""
   ]
  },
  {
   "cell_type": "code",
   "execution_count": 5,
   "metadata": {},
   "outputs": [],
   "source": [
    "import random\n",
    "\n",
    "random.seed(334)"
   ]
  },
  {
   "attachments": {},
   "cell_type": "markdown",
   "metadata": {},
   "source": [
    "### 変換"
   ]
  },
  {
   "cell_type": "code",
   "execution_count": 6,
   "metadata": {},
   "outputs": [],
   "source": [
    "texts = []\n",
    "\n",
    "with open(target_file, \"r\", encoding=\"utf-8\") as read_f:\n",
    "    for line in read_f:\n",
    "        texts.append(get_text(line))\n",
    "\n",
    "if SHUFFLE == True:\n",
    "    random.shuffle(texts)\n",
    "\n",
    "with open(output_file, \"w\", encoding=\"utf-8\") as write_f:\n",
    "    for text in texts:\n",
    "        if has_stopwords(text) == False:\n",
    "            write_f.write(text)"
   ]
  }
 ],
 "metadata": {
  "kernelspec": {
   "display_name": "jpnlp",
   "language": "python",
   "name": "python3"
  },
  "language_info": {
   "codemirror_mode": {
    "name": "ipython",
    "version": 3
   },
   "file_extension": ".py",
   "mimetype": "text/x-python",
   "name": "python",
   "nbconvert_exporter": "python",
   "pygments_lexer": "ipython3",
   "version": "3.9.16"
  },
  "orig_nbformat": 4,
  "vscode": {
   "interpreter": {
    "hash": "af19612f8f38f6812d87a5ef9419a460d9700d7e1cf8ff071cf581e2ee4d6233"
   }
  }
 },
 "nbformat": 4,
 "nbformat_minor": 2
}
